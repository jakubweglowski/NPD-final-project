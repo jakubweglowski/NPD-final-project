{
 "cells": [
  {
   "cell_type": "code",
   "execution_count": 5,
   "metadata": {},
   "outputs": [],
   "source": [
    "from task1 import *"
   ]
  },
  {
   "cell_type": "code",
   "execution_count": 8,
   "metadata": {},
   "outputs": [
    {
     "name": "stdout",
     "output_type": "stream",
     "text": [
      "Loading data... "
     ]
    },
    {
     "name": "stderr",
     "output_type": "stream",
     "text": [
      "c:\\Users\\priva\\OneDrive\\Desktop\\STUDIA\\Narzędzia Informatyczne w Pythonie wspierające Analizę Danych\\Projekt zaliczeniowy\\final_files\\load_data.py:25: DtypeWarning: Columns (4) have mixed types. Specify dtype option on import or set low_memory=False.\n",
      "  return pd.read_csv(path_to_file,\n"
     ]
    },
    {
     "name": "stdout",
     "output_type": "stream",
     "text": [
      "Done!\n",
      "Preprocessing... Done!\n",
      "Creating ranking...\n",
      "\n",
      "Done!\n"
     ]
    }
   ],
   "source": [
    "rank = fullTask(path1=\"../data/title.akas.tsv.gz\",\n",
    "                path2=\"../data/title.basics.tsv.gz\",\n",
    "                path3=\"../data/title.ratings.tsv.gz\",\n",
    "                start = 2000, # rok rozpoczęcia analizy, domyślnie 1800\n",
    "                end = 2020, # rok zakończenia analizy, domyślnie aktualny\n",
    "                Ks = [5000], # filmów mających mniej niż K ocen nie bierzemy pod uwagę\n",
    "                Ns = range(10, 201, 10), # do rankingu krajów bierzemy pod uwagę pierwsze N najlepszych filmów\n",
    "                verbose = True, \n",
    "                file = \"answer.txt\" # do tego pliku zapiszą się hegemonie\n",
    ")"
   ]
  },
  {
   "cell_type": "code",
   "execution_count": null,
   "metadata": {},
   "outputs": [],
   "source": []
  }
 ],
 "metadata": {
  "kernelspec": {
   "display_name": "Python 3",
   "language": "python",
   "name": "python3"
  },
  "language_info": {
   "codemirror_mode": {
    "name": "ipython",
    "version": 3
   },
   "file_extension": ".py",
   "mimetype": "text/x-python",
   "name": "python",
   "nbconvert_exporter": "python",
   "pygments_lexer": "ipython3",
   "version": "3.11.0"
  }
 },
 "nbformat": 4,
 "nbformat_minor": 2
}
