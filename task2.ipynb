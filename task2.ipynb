{
 "cells": [
  {
   "cell_type": "code",
   "execution_count": 86,
   "metadata": {},
   "outputs": [],
   "source": [
    "from importlib import reload\n",
    "\n",
    "import task1\n",
    "reload(task1)\n",
    "from task1 import *\n",
    "\n",
    "import task2\n",
    "reload(task2)\n",
    "from task2 import *\n",
    "\n",
    "path1=\"data/title.akas.tsv.gz\"\n",
    "path2=\"data/title.basics.tsv.gz\"\n",
    "path3=\"data/title.ratings.tsv.gz\""
   ]
  },
  {
   "cell_type": "code",
   "execution_count": 82,
   "metadata": {},
   "outputs": [],
   "source": [
    "gdp_rank = gdpRank()"
   ]
  },
  {
   "cell_type": "code",
   "execution_count": 83,
   "metadata": {},
   "outputs": [
    {
     "name": "stdout",
     "output_type": "stream",
     "text": [
      "Loading data... "
     ]
    },
    {
     "name": "stderr",
     "output_type": "stream",
     "text": [
      "c:\\Users\\priva\\OneDrive\\Desktop\\STUDIA\\Narzędzia Informatyczne w Pythonie wspierające Analizę Danych\\Projekt zaliczeniowy\\load_data.py:25: DtypeWarning: Columns (4) have mixed types. Specify dtype option on import or set low_memory=False.\n",
      "  return pd.read_csv(path_to_file,\n"
     ]
    },
    {
     "name": "stdout",
     "output_type": "stream",
     "text": [
      "Done!\n",
      "Preprocessing... Done!\n",
      "Creating ranking...\n",
      "\n",
      "Done!\n"
     ]
    }
   ],
   "source": [
    "rank = fullTask(path1,\n",
    "                path2,\n",
    "                path3,\n",
    "                Ks = [1000],\n",
    "                Ns = range(10, 201, 10),\n",
    "                verbose = True,\n",
    "                file = \"answer.txt\")"
   ]
  },
  {
   "cell_type": "code",
   "execution_count": 87,
   "metadata": {},
   "outputs": [],
   "source": [
    "df, df3 = load_dataframes(path1, path2, path3)\n",
    "df_analysis = prepareDataset(df, df3)"
   ]
  },
  {
   "cell_type": "code",
   "execution_count": null,
   "metadata": {},
   "outputs": [],
   "source": [
    "df_analysis.head()"
   ]
  }
 ],
 "metadata": {
  "kernelspec": {
   "display_name": "Python 3",
   "language": "python",
   "name": "python3"
  },
  "language_info": {
   "codemirror_mode": {
    "name": "ipython",
    "version": 3
   },
   "file_extension": ".py",
   "mimetype": "text/x-python",
   "name": "python",
   "nbconvert_exporter": "python",
   "pygments_lexer": "ipython3",
   "version": "3.11.0"
  }
 },
 "nbformat": 4,
 "nbformat_minor": 2
}
