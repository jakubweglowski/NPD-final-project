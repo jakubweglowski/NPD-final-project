{
 "cells": [
  {
   "cell_type": "code",
   "execution_count": 24,
   "metadata": {},
   "outputs": [],
   "source": [
    "from importlib import reload\n",
    "import countries\n",
    "reload(countries)\n",
    "from countries import countries\n",
    "import wbgapi as wb"
   ]
  },
  {
   "cell_type": "code",
   "execution_count": 20,
   "metadata": {},
   "outputs": [],
   "source": [
    "countries_df = wb.economy.DataFrame()\n",
    "countries_wb = dict(countries_df.loc[countries_df[\"aggregate\"] == 0].iloc[:, 0])"
   ]
  },
  {
   "cell_type": "code",
   "execution_count": 25,
   "metadata": {},
   "outputs": [
    {
     "name": "stdout",
     "output_type": "stream",
     "text": [
      "Channel Islands\n",
      "Curacao\n",
      "West Bank and Gaza\n",
      "Eswatini\n",
      "Kosovo\n"
     ]
    }
   ],
   "source": [
    "for x in list(countries_wb.values()):\n",
    "    if x not in list(countries.values()):\n",
    "        print(x) "
   ]
  }
 ],
 "metadata": {
  "kernelspec": {
   "display_name": "Python 3",
   "language": "python",
   "name": "python3"
  },
  "language_info": {
   "codemirror_mode": {
    "name": "ipython",
    "version": 3
   },
   "file_extension": ".py",
   "mimetype": "text/x-python",
   "name": "python",
   "nbconvert_exporter": "python",
   "pygments_lexer": "ipython3",
   "version": "3.11.0"
  }
 },
 "nbformat": 4,
 "nbformat_minor": 2
}
