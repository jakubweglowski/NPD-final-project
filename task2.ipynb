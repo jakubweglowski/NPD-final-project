{
 "cells": [
  {
   "cell_type": "code",
   "execution_count": 92,
   "metadata": {},
   "outputs": [],
   "source": [
    "from importlib import reload\n",
    "\n",
    "import task1\n",
    "reload(task1)\n",
    "from task1 import *\n",
    "\n",
    "import task2\n",
    "reload(task2)\n",
    "from task2 import *\n",
    "\n",
    "import countries as ct\n",
    "\n",
    "path1=\"data/title.akas.tsv.gz\"\n",
    "path2=\"data/title.basics.tsv.gz\"\n",
    "path3=\"data/title.ratings.tsv.gz\""
   ]
  },
  {
   "cell_type": "code",
   "execution_count": 82,
   "metadata": {},
   "outputs": [],
   "source": [
    "gdp_rank = gdpRank()"
   ]
  },
  {
   "cell_type": "code",
   "execution_count": 83,
   "metadata": {},
   "outputs": [
    {
     "name": "stdout",
     "output_type": "stream",
     "text": [
      "Loading data... "
     ]
    },
    {
     "name": "stderr",
     "output_type": "stream",
     "text": [
      "c:\\Users\\priva\\OneDrive\\Desktop\\STUDIA\\Narzędzia Informatyczne w Pythonie wspierające Analizę Danych\\Projekt zaliczeniowy\\load_data.py:25: DtypeWarning: Columns (4) have mixed types. Specify dtype option on import or set low_memory=False.\n",
      "  return pd.read_csv(path_to_file,\n"
     ]
    },
    {
     "name": "stdout",
     "output_type": "stream",
     "text": [
      "Done!\n",
      "Preprocessing... Done!\n",
      "Creating ranking...\n",
      "\n",
      "Done!\n"
     ]
    }
   ],
   "source": [
    "rank = fullTask(path1,\n",
    "                path2,\n",
    "                path3,\n",
    "                Ks = [1000],\n",
    "                Ns = range(10, 201, 10),\n",
    "                verbose = True,\n",
    "                file = \"answer.txt\")"
   ]
  },
  {
   "cell_type": "code",
   "execution_count": 87,
   "metadata": {},
   "outputs": [
    {
     "name": "stderr",
     "output_type": "stream",
     "text": [
      "c:\\Users\\priva\\OneDrive\\Desktop\\STUDIA\\Narzędzia Informatyczne w Pythonie wspierające Analizę Danych\\Projekt zaliczeniowy\\load_data.py:25: DtypeWarning: Columns (4) have mixed types. Specify dtype option on import or set low_memory=False.\n",
      "  return pd.read_csv(path_to_file,\n"
     ]
    }
   ],
   "source": [
    "df, df3 = load_dataframes(path1, path2, path3)\n",
    "df_analysis = prepareDataset(df, df3)"
   ]
  },
  {
   "cell_type": "code",
   "execution_count": 95,
   "metadata": {},
   "outputs": [
    {
     "data": {
      "text/plain": [
       "India            3182331\n",
       "United States    3004535\n",
       "Italy            2334282\n",
       "Turkey           2271020\n",
       "France           1883302\n",
       "                  ...   \n",
       "Botswana              10\n",
       "Seychelles             9\n",
       "Zambia                 9\n",
       "Comoros                8\n",
       "Libya                  8\n",
       "Name: numVotes, Length: 193, dtype: int32"
      ]
     },
     "execution_count": 95,
     "metadata": {},
     "output_type": "execute_result"
    }
   ],
   "source": [
    "rank_weak = df_analysis.groupby(by=\"region\")[\"numVotes\"].sum().astype(int)\n",
    "rank_weak.index = [ct.countries[x] for x in rank_weak.index]\n",
    "rank_weak.sort_values(ascending=False)"
   ]
  },
  {
   "cell_type": "code",
   "execution_count": 101,
   "metadata": {},
   "outputs": [
    {
     "data": {
      "text/plain": [
       "Zambia                                   9.100000\n",
       "Uganda                                   8.461921\n",
       "Isle of Man                              8.400000\n",
       "Monaco                                   8.156098\n",
       "Grenada                                  7.800000\n",
       "Yugoslavia                               7.784770\n",
       "Maldives                                 7.781624\n",
       "Tanzania, United Republic of             7.726502\n",
       "San Marino                               7.677349\n",
       "Myanmar                                  7.658368\n",
       "Sierra Leone                             7.529563\n",
       "Bangladesh                               7.501661\n",
       "New Caledonia                            7.500000\n",
       "Congo, The Democratic Republic of the    7.465546\n",
       "United Arab Emirates                     7.461750\n",
       "dtype: float64"
      ]
     },
     "execution_count": 101,
     "metadata": {},
     "output_type": "execute_result"
    }
   ],
   "source": [
    "df_analysis[\"score\"] = df_analysis[\"averageRating\"] * df_analysis[\"numVotes\"]\n",
    "rank_strong = df_analysis.groupby(by=\"region\")[\"score\"].sum()/df_analysis.groupby(by=\"region\")[\"numVotes\"].sum()\n",
    "rank_strong.index = [ct.countries[x] for x in rank_strong.index]\n",
    "rank_strong.sort_values(ascending=False).head(15)"
   ]
  }
 ],
 "metadata": {
  "kernelspec": {
   "display_name": "Python 3",
   "language": "python",
   "name": "python3"
  },
  "language_info": {
   "codemirror_mode": {
    "name": "ipython",
    "version": 3
   },
   "file_extension": ".py",
   "mimetype": "text/x-python",
   "name": "python",
   "nbconvert_exporter": "python",
   "pygments_lexer": "ipython3",
   "version": "3.11.0"
  }
 },
 "nbformat": 4,
 "nbformat_minor": 2
}
