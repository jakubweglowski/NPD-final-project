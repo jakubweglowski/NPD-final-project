{
 "cells": [
  {
   "cell_type": "code",
   "execution_count": 3,
   "metadata": {},
   "outputs": [],
   "source": [
    "from importlib import reload\n",
    "import load_data\n",
    "reload(load_data)\n",
    "from load_data import *\n",
    "\n",
    "\n",
    "import numpy as np\n",
    "from langdetect import detect\n",
    "import translitcodec\n",
    "import codecs"
   ]
  },
  {
   "cell_type": "markdown",
   "metadata": {},
   "source": [
    "# 1. Standardowa analiza"
   ]
  },
  {
   "cell_type": "code",
   "execution_count": 5,
   "metadata": {},
   "outputs": [
    {
     "name": "stderr",
     "output_type": "stream",
     "text": [
      "c:\\Users\\priva\\OneDrive\\Desktop\\STUDIA\\Narzędzia Informatyczne w Pythonie wspierające Analizę Danych\\Projekt zaliczeniowy\\load_data.py:25: DtypeWarning: Columns (4) have mixed types. Specify dtype option on import or set low_memory=False.\n",
      "  return pd.read_csv(path_to_file,\n"
     ]
    }
   ],
   "source": [
    "path_to_file = \"data/title.akas.tsv.gz\"\n",
    "df1 = load_to_dataframe(path_to_file)\n",
    "df1 = df1.drop(columns=[\"language\", \"types\", \"attributes\"])\n",
    "\n",
    "path_to_file = \"data/title.basics.tsv.gz\"\n",
    "df3 = load_to_dataframe(path_to_file)\n",
    "df3 = df3.loc[:, [\"tconst\", \"titleType\"]]\n",
    "\n",
    "path_to_file = \"data/title.ratings.tsv.gz\"\n",
    "df7 = load_to_dataframe(path_to_file)\n",
    "\n",
    "df = df1.merge(df3,\n",
    "              how=\"left\",\n",
    "              left_on=\"titleId\",\n",
    "              right_on=\"tconst\"\n",
    ")\n",
    "\n",
    "# wybieramy tylko \"movie\" i niektóre kolumny\n",
    "df = df.loc[df[\"titleType\"] == \"movie\", [\"titleId\", \"title\", \"region\", \"isOriginalTitle\"]]\n",
    "\n",
    "# zamieniamy wszystkie tytuły na lowercase i dekodujemy narodowe znaki\n",
    "df[\"title\"] = df[\"title\"].astype(str).str.lower().apply(lambda x: codecs.encode(str(x), 'translit/short'))\n",
    "\n",
    "# wydostajemy kandydatów na filmy z których odzyskamy kraje\n",
    "# zgodnie z uwagą w PDFie od prowadzących\n",
    "df_think = df.loc[df[\"isOriginalTitle\"] == 0].merge(\n",
    "    df.loc[df[\"isOriginalTitle\"] == 1],\n",
    "    on=\"titleId\",\n",
    "    how=\"left\",\n",
    "    suffixes=(\"\", \"_y\")\n",
    ").query(\n",
    "    \"title == title_y\"\n",
    ").drop(\n",
    "    labels=[\"title_y\", \"region_y\", \"isOriginalTitle\", \"isOriginalTitle_y\"],\n",
    "    axis=1\n",
    ")\n",
    "\n",
    "# grupujemy po ID tytułu\n",
    "# potem zliczamy ile było przypisanych regionów\n",
    "# tam, gdzie był jeden, daje się zidentyfikować jednoznacznie\n",
    "disambig = df_think.loc[:, [\"titleId\", \"region\"]].groupby(\n",
    "    by=[\"titleId\"]\n",
    ").count()[\"region\"] == 1\n",
    "\n",
    "df_with_known_countries = df_think.loc[df_think[\"titleId\"].isin(disambig.index[disambig == True])]\n",
    "\n",
    "df_analysis = df_with_known_countries.merge(df7,\n",
    "                                            how=\"left\",\n",
    "                                            left_on=\"titleId\",\n",
    "                                            right_on=\"tconst\"\n",
    ").drop(\n",
    "    columns=[\"tconst\"]\n",
    ").dropna()"
   ]
  },
  {
   "cell_type": "markdown",
   "metadata": {},
   "source": [
    "# 2. Model językowy"
   ]
  },
  {
   "cell_type": "code",
   "execution_count": 6,
   "metadata": {},
   "outputs": [],
   "source": [
    "# wspieramy rozpoznawanie języka przez bibliotekę 'langdetect'\n",
    "def mydetect(x):\n",
    "    try:\n",
    "        return detect(x).upper()\n",
    "    except:\n",
    "        return pd.NA\n",
    "\n",
    "# funkcje do .apply()\n",
    "def myfunc_EC(x):\n",
    "    if x[5] != 'ES':\n",
    "        x[2] = x[5]\n",
    "    return x\n",
    "\n",
    "def myfunc_TR(x):\n",
    "    if x[5] != 'TR':\n",
    "        x[2] = x[5]\n",
    "    return x\n",
    "    \n",
    "# usuwamy dziwne filmy z Ekwadoru\n",
    "df_EC = df_analysis.loc[df_analysis[\"region\"] == 'EC'].copy()\n",
    "df_EC.loc[:, \"detected\"] = df_EC[\"title\"].apply(mydetect)\n",
    "\n",
    "false_EC = df_EC.loc[df_EC[\"detected\"] != 'ES'][\"titleId\"]\n",
    "df_EC = df_EC.apply(myfunc_EC, axis=1).drop(columns=[\"detected\"])\n",
    "\n",
    "df_analysis.loc[df_EC.index] = df_EC"
   ]
  },
  {
   "cell_type": "code",
   "execution_count": 8,
   "metadata": {},
   "outputs": [],
   "source": [
    "# # usuwamy dziwne filmy z Turcji\n",
    "# df_TR = df_analysis.loc[df_analysis[\"region\"] == 'TR'].copy()\n",
    "# df_TR.loc[:, \"detected\"] = df_TR[\"title\"].apply(mydetect)\n",
    "# df_TR = df_TR.dropna()\n",
    "\n",
    "# false_TR = df_TR.loc[df_TR[\"detected\"] != 'TR'][\"titleId\"]\n",
    "# df_TR = df_TR.apply(myfunc_TR, axis=1).drop(columns=[\"detected\"])\n",
    "\n",
    "# df_analysis.loc[df_TR.index] = df_TR"
   ]
  },
  {
   "cell_type": "markdown",
   "metadata": {},
   "source": [
    "# 3. Zasadnicza część zadania"
   ]
  },
  {
   "cell_type": "code",
   "execution_count": null,
   "metadata": {},
   "outputs": [],
   "source": [
    "K = 10000 # próg odcięcia\n",
    "N = 1000 # ile pierwszych filmów bierzemy\n",
    "df_analysis.loc[df_analysis[\"numVotes\"] > K].sort_values(\n",
    "    by=\"averageRating\", ascending=False\n",
    ").head(N).loc[:, [\"titleId\", \"region\"]].groupby(by=\"region\").count()"
   ]
  },
  {
   "cell_type": "code",
   "execution_count": 43,
   "metadata": {},
   "outputs": [],
   "source": [
    "from importlib import reload\n",
    "import task1\n",
    "reload(task1)\n",
    "from task1 import *"
   ]
  },
  {
   "cell_type": "code",
   "execution_count": 22,
   "metadata": {},
   "outputs": [
    {
     "name": "stderr",
     "output_type": "stream",
     "text": [
      "c:\\Users\\priva\\OneDrive\\Desktop\\STUDIA\\Narzędzia Informatyczne w Pythonie wspierające Analizę Danych\\Projekt zaliczeniowy\\load_data.py:25: DtypeWarning: Columns (4) have mixed types. Specify dtype option on import or set low_memory=False.\n",
      "  return pd.read_csv(path_to_file,\n"
     ]
    }
   ],
   "source": [
    "df, df3 = load_dataframes(path1=\"data/title.akas.tsv.gz\",\n",
    "                                path2=\"data/title.basics.tsv.gz\",\n",
    "                                path3=\"data/title.ratings.tsv.gz\")"
   ]
  },
  {
   "cell_type": "code",
   "execution_count": 27,
   "metadata": {},
   "outputs": [],
   "source": [
    "df_analysis = prepareDataset(df, df3)"
   ]
  },
  {
   "cell_type": "code",
   "execution_count": 28,
   "metadata": {},
   "outputs": [
    {
     "data": {
      "text/html": [
       "<div>\n",
       "<style scoped>\n",
       "    .dataframe tbody tr th:only-of-type {\n",
       "        vertical-align: middle;\n",
       "    }\n",
       "\n",
       "    .dataframe tbody tr th {\n",
       "        vertical-align: top;\n",
       "    }\n",
       "\n",
       "    .dataframe thead th {\n",
       "        text-align: right;\n",
       "    }\n",
       "</style>\n",
       "<table border=\"1\" class=\"dataframe\">\n",
       "  <thead>\n",
       "    <tr style=\"text-align: right;\">\n",
       "      <th></th>\n",
       "      <th>titleId</th>\n",
       "      <th>title</th>\n",
       "      <th>region</th>\n",
       "      <th>averageRating</th>\n",
       "      <th>numVotes</th>\n",
       "    </tr>\n",
       "  </thead>\n",
       "  <tbody>\n",
       "    <tr>\n",
       "      <th>0</th>\n",
       "      <td>tt0000147</td>\n",
       "      <td>the corbett-fitzsimmons fight</td>\n",
       "      <td>US</td>\n",
       "      <td>5.2</td>\n",
       "      <td>517.0</td>\n",
       "    </tr>\n",
       "    <tr>\n",
       "      <th>1</th>\n",
       "      <td>tt0000502</td>\n",
       "      <td>bohemios</td>\n",
       "      <td>ES</td>\n",
       "      <td>4.4</td>\n",
       "      <td>17.0</td>\n",
       "    </tr>\n",
       "    <tr>\n",
       "      <th>2</th>\n",
       "      <td>tt0000591</td>\n",
       "      <td>l'enfant prodigue</td>\n",
       "      <td>FR</td>\n",
       "      <td>5.7</td>\n",
       "      <td>25.0</td>\n",
       "    </tr>\n",
       "    <tr>\n",
       "      <th>3</th>\n",
       "      <td>tt0000615</td>\n",
       "      <td>robbery under arms</td>\n",
       "      <td>AU</td>\n",
       "      <td>4.3</td>\n",
       "      <td>25.0</td>\n",
       "    </tr>\n",
       "    <tr>\n",
       "      <th>4</th>\n",
       "      <td>tt0000630</td>\n",
       "      <td>amleto</td>\n",
       "      <td>IT</td>\n",
       "      <td>2.9</td>\n",
       "      <td>27.0</td>\n",
       "    </tr>\n",
       "    <tr>\n",
       "      <th>5</th>\n",
       "      <td>tt0000675</td>\n",
       "      <td>don quijote</td>\n",
       "      <td>ES</td>\n",
       "      <td>4.2</td>\n",
       "      <td>20.0</td>\n",
       "    </tr>\n",
       "    <tr>\n",
       "      <th>11</th>\n",
       "      <td>tt0000862</td>\n",
       "      <td>faldgruben</td>\n",
       "      <td>DK</td>\n",
       "      <td>4.4</td>\n",
       "      <td>17.0</td>\n",
       "    </tr>\n",
       "    <tr>\n",
       "      <th>16</th>\n",
       "      <td>tt0000941</td>\n",
       "      <td>locura de amor</td>\n",
       "      <td>ES</td>\n",
       "      <td>4.5</td>\n",
       "      <td>29.0</td>\n",
       "    </tr>\n",
       "    <tr>\n",
       "      <th>21</th>\n",
       "      <td>tt0001010</td>\n",
       "      <td>proteccion de un convoy de viveres en el puent...</td>\n",
       "      <td>ES</td>\n",
       "      <td>4.2</td>\n",
       "      <td>15.0</td>\n",
       "    </tr>\n",
       "    <tr>\n",
       "      <th>22</th>\n",
       "      <td>tt0001028</td>\n",
       "      <td>salome mad</td>\n",
       "      <td>GB</td>\n",
       "      <td>4.0</td>\n",
       "      <td>20.0</td>\n",
       "    </tr>\n",
       "  </tbody>\n",
       "</table>\n",
       "</div>"
      ],
      "text/plain": [
       "      titleId                                              title region  \\\n",
       "0   tt0000147                      the corbett-fitzsimmons fight     US   \n",
       "1   tt0000502                                           bohemios     ES   \n",
       "2   tt0000591                                  l'enfant prodigue     FR   \n",
       "3   tt0000615                                 robbery under arms     AU   \n",
       "4   tt0000630                                             amleto     IT   \n",
       "5   tt0000675                                        don quijote     ES   \n",
       "11  tt0000862                                         faldgruben     DK   \n",
       "16  tt0000941                                     locura de amor     ES   \n",
       "21  tt0001010  proteccion de un convoy de viveres en el puent...     ES   \n",
       "22  tt0001028                                         salome mad     GB   \n",
       "\n",
       "    averageRating  numVotes  \n",
       "0             5.2     517.0  \n",
       "1             4.4      17.0  \n",
       "2             5.7      25.0  \n",
       "3             4.3      25.0  \n",
       "4             2.9      27.0  \n",
       "5             4.2      20.0  \n",
       "11            4.4      17.0  \n",
       "16            4.5      29.0  \n",
       "21            4.2      15.0  \n",
       "22            4.0      20.0  "
      ]
     },
     "execution_count": 28,
     "metadata": {},
     "output_type": "execute_result"
    }
   ],
   "source": [
    "df_analysis.head(10)"
   ]
  },
  {
   "cell_type": "code",
   "execution_count": 44,
   "metadata": {},
   "outputs": [
    {
     "name": "stdout",
     "output_type": "stream",
     "text": [
      "Top 100 countries - ranking\n",
      "1. India\n",
      "2. Turkey\n",
      "3. Romania\n",
      "4. Hungary\n",
      "5. Bangladesh\n",
      "6. Croatia\n",
      "7. XYU\n",
      "8. SW\n",
      "9. Latvia\n",
      "10. YUCS\n",
      "11. Finland\n",
      "12. Japan\n",
      "13. Georgia\n",
      "14. Canada\n",
      "15. Poland\n",
      "16. France\n",
      "17. Slovakia\n",
      "18. SQ\n",
      "19. Timor-Leste\n",
      "20. Germany\n",
      "21. Ukraine\n",
      "22. United States\n",
      "23. China\n",
      "24. Mexico\n"
     ]
    }
   ],
   "source": [
    "properAnalysis(df_analysis, K = 1000, N = 100)"
   ]
  }
 ],
 "metadata": {
  "kernelspec": {
   "display_name": "Python 3",
   "language": "python",
   "name": "python3"
  },
  "language_info": {
   "codemirror_mode": {
    "name": "ipython",
    "version": 3
   },
   "file_extension": ".py",
   "mimetype": "text/x-python",
   "name": "python",
   "nbconvert_exporter": "python",
   "pygments_lexer": "ipython3",
   "version": "3.11.0"
  }
 },
 "nbformat": 4,
 "nbformat_minor": 2
}
